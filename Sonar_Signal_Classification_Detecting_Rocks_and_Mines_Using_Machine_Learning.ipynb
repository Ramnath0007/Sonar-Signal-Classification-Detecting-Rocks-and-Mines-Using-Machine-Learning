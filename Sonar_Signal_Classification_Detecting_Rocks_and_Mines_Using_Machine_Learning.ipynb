{
  "nbformat": 4,
  "nbformat_minor": 0,
  "metadata": {
    "colab": {
      "provenance": [],
      "authorship_tag": "ABX9TyPOrq1g89MvAiCSWheqKopY",
      "include_colab_link": true
    },
    "kernelspec": {
      "name": "python3",
      "display_name": "Python 3"
    },
    "language_info": {
      "name": "python"
    }
  },
  "cells": [
    {
      "cell_type": "markdown",
      "metadata": {
        "id": "view-in-github",
        "colab_type": "text"
      },
      "source": [
        "<a href=\"https://colab.research.google.com/github/Ramnath0007/Sonar-Signal-Classification-Detecting-Rocks-and-Mines-Using-Machine-Learning/blob/main/Sonar_Signal_Classification_Detecting_Rocks_and_Mines_Using_Machine_Learning.ipynb\" target=\"_parent\"><img src=\"https://colab.research.google.com/assets/colab-badge.svg\" alt=\"Open In Colab\"/></a>"
      ]
    },
    {
      "cell_type": "markdown",
      "source": [
        "IMPORTING REQUIRED LIBRARY"
      ],
      "metadata": {
        "id": "XnGxGz-LaLfq"
      }
    },
    {
      "cell_type": "code",
      "source": [
        "from sklearn.ensemble import RandomForestClassifier\n",
        "from sklearn.model_selection import train_test_split, cross_val_score\n",
        "from sklearn.preprocessing import StandardScaler\n",
        "from sklearn.metrics import accuracy_score, classification_report, confusion_matrix\n",
        "import numpy as np\n",
        "import pandas as pd\n",
        "\n",
        "sonar = pd.read_csv('/content/Copy of sonar data.csv', header=None)\n",
        "\n",
        "# Split features and target\n",
        "x = sonar.drop(columns=60, axis=1)\n",
        "y = sonar[60]\n",
        "\n",
        "# Standardize the features\n",
        "scaler = StandardScaler()\n",
        "x_scaled = scaler.fit_transform(x)\n",
        "\n",
        "# Train-test split\n",
        "x_train, x_test, y_train, y_test = train_test_split(x_scaled, y, test_size=0.1, stratify=y, random_state=1)\n",
        "\n",
        "# Random Forest Classifier\n",
        "model = RandomForestClassifier(n_estimators=100, random_state=42)\n",
        "model.fit(x_train, y_train)\n",
        "\n",
        "# Evaluate on training data\n",
        "x_train_prediction = model.predict(x_train)\n",
        "training_accuracy = accuracy_score(y_train, x_train_prediction)\n",
        "print(\"Training Accuracy:\", training_accuracy)\n",
        "\n",
        "# Evaluate on test data\n",
        "x_test_prediction = model.predict(x_test)\n",
        "testing_accuracy = accuracy_score(y_test, x_test_prediction)\n",
        "print(\"Testing Accuracy:\", testing_accuracy)\n",
        "\n",
        "# Cross-validation\n",
        "cv_scores = cross_val_score(model, x_scaled, y, cv=5)\n",
        "print(\"Cross-Validation Accuracy:\", cv_scores)\n",
        "print(\"Mean CV Accuracy:\", np.mean(cv_scores))\n",
        "\n",
        "# Detailed classification report\n",
        "print(\"\\nClassification Report:\")\n",
        "print(classification_report(y_test, x_test_prediction))\n",
        "\n",
        "# Confusion matrix\n",
        "print(\"\\nConfusion Matrix:\")\n",
        "print(confusion_matrix(y_test, x_test_prediction))\n",
        "\n",
        "# Predict for a new input\n",
        "input_data = (0.0270, 0.0163, 0.0341, 0.0247, 0.0822, 0.1256, 0.1323, 0.1584, 0.2017, 0.2122,\n",
        "              0.2210, 0.2399, 0.2964, 0.4061, 0.5095, 0.5512, 0.6613, 0.6804, 0.6520, 0.6788,\n",
        "              0.7811, 0.8369, 0.8969, 0.9856, 1.0000, 0.9395, 0.8917, 0.8105, 0.6828, 0.5572,\n",
        "              0.4301, 0.3339, 0.2035, 0.0798, 0.0809, 0.1525, 0.2626, 0.2456, 0.1980, 0.2412,\n",
        "              0.2409, 0.1901, 0.2077, 0.1767, 0.1119, 0.0779, 0.1344, 0.0960, 0.0598, 0.0330,\n",
        "              0.0197, 0.0189, 0.0204, 0.0085, 0.0043, 0.0092, 0.0138, 0.0094, 0.0105, 0.0093)\n",
        "input_data_as_numpy_array = np.asarray(input_data)\n",
        "\n",
        "# Standardize the input data\n",
        "input_data_scaled = scaler.transform(input_data_as_numpy_array.reshape(1, -1))\n",
        "\n",
        "# Make prediction\n",
        "prediction = model.predict(input_data_scaled)\n",
        "print(\"\\nPrediction:\", prediction)\n",
        "if prediction[0] == 'R':\n",
        "    print(\"The object is a Rock\")\n",
        "else:\n",
        "    print(\"The object is a Mine\")"
      ],
      "metadata": {
        "colab": {
          "base_uri": "https://localhost:8080/"
        },
        "id": "ubX3GWeqnikN",
        "outputId": "7bb835a7-278e-4874-ba5c-e80ab391106a"
      },
      "execution_count": 16,
      "outputs": [
        {
          "output_type": "stream",
          "name": "stdout",
          "text": [
            "Training Accuracy: 1.0\n",
            "Testing Accuracy: 0.7619047619047619\n",
            "Cross-Validation Accuracy: [0.52380952 0.73809524 0.66666667 0.73170732 0.58536585]\n",
            "Mean CV Accuracy: 0.6491289198606272\n",
            "\n",
            "Classification Report:\n",
            "              precision    recall  f1-score   support\n",
            "\n",
            "           M       0.75      0.82      0.78        11\n",
            "           R       0.78      0.70      0.74        10\n",
            "\n",
            "    accuracy                           0.76        21\n",
            "   macro avg       0.76      0.76      0.76        21\n",
            "weighted avg       0.76      0.76      0.76        21\n",
            "\n",
            "\n",
            "Confusion Matrix:\n",
            "[[9 2]\n",
            " [3 7]]\n",
            "\n",
            "Prediction: ['M']\n",
            "The object is a Mine\n"
          ]
        }
      ]
    }
  ]
}